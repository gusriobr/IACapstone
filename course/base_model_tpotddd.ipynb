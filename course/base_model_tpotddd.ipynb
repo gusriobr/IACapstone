{
 "cells": [
  {
   "cell_type": "markdown",
   "metadata": {},
   "source": [
    "# Training the base classifier\n",
    "\n",
    "Create a base line, how good can we predict without deep-learning? Les create a base classifier using tpot out-of-the-box."
   ]
  },
  {
   "cell_type": "code",
   "execution_count": 1,
   "metadata": {},
   "outputs": [],
   "source": [
    "import sys\n",
    "sys.path.append(\"../src\") # go to parent dir\n",
    "# from customFunctions import *"
   ]
  },
  {
   "cell_type": "code",
   "execution_count": 2,
   "metadata": {},
   "outputs": [
    {
     "name": "stderr",
     "output_type": "stream",
     "text": [
      "/home/gus/workspaces/wpy/venvs/mathor/lib/python3.6/site-packages/tpot/builtins/__init__.py:36: UserWarning: Warning: optional dependency `torch` is not available. - skipping import of NN models.\n",
      "  warnings.warn(\"Warning: optional dependency `torch` is not available. - skipping import of NN models.\")\n"
     ]
    }
   ],
   "source": [
    "import numpy as np\n",
    "from sklearn.model_selection import StratifiedShuffleSplit\n",
    "from tpot import TPOTClassifier\n",
    "\n",
    "from data import read_crop_list, load_structured_sample\n",
    "from eval import eval_model\n",
    "from training import create_training_folder\n",
    "import pandas as pd\n",
    "from random import randrange"
   ]
  },
  {
   "cell_type": "code",
   "execution_count": 3,
   "metadata": {},
   "outputs": [],
   "source": [
    "\n",
    "def read_crop_list():\n",
    "    df_crops = pd.read_pickle(\"/media/data/projects/crophisto/crop_codes.pckl\")\n",
    "    # transform data to get a line per each\n",
    "    crop_list = df_crops[\"code\"].to_numpy()\n",
    "    vocab = {val: idx for idx, val in enumerate(crop_list)}\n",
    "    return df_crops, vocab\n"
   ]
  },
  {
   "cell_type": "code",
   "execution_count": 4,
   "metadata": {},
   "outputs": [
    {
     "name": "stdout",
     "output_type": "stream",
     "text": [
      "Sample size: (30944, 12)\n"
     ]
    },
    {
     "data": {
      "text/html": [
       "<div>\n",
       "<style scoped>\n",
       "    .dataframe tbody tr th:only-of-type {\n",
       "        vertical-align: middle;\n",
       "    }\n",
       "\n",
       "    .dataframe tbody tr th {\n",
       "        vertical-align: top;\n",
       "    }\n",
       "\n",
       "    .dataframe thead th {\n",
       "        text-align: right;\n",
       "    }\n",
       "</style>\n",
       "<table border=\"1\" class=\"dataframe\">\n",
       "  <thead>\n",
       "    <tr style=\"text-align: right;\">\n",
       "      <th></th>\n",
       "      <th>code</th>\n",
       "      <th>description</th>\n",
       "      <th>is_crop</th>\n",
       "      <th>idx</th>\n",
       "    </tr>\n",
       "  </thead>\n",
       "  <tbody>\n",
       "    <tr>\n",
       "      <th>0</th>\n",
       "      <td>1</td>\n",
       "      <td>TRIGO</td>\n",
       "      <td>1</td>\n",
       "      <td>0</td>\n",
       "    </tr>\n",
       "    <tr>\n",
       "      <th>1</th>\n",
       "      <td>3</td>\n",
       "      <td>URBANO-VIALES</td>\n",
       "      <td>0</td>\n",
       "      <td>1</td>\n",
       "    </tr>\n",
       "    <tr>\n",
       "      <th>2</th>\n",
       "      <td>4</td>\n",
       "      <td>MAIZ</td>\n",
       "      <td>1</td>\n",
       "      <td>2</td>\n",
       "    </tr>\n",
       "    <tr>\n",
       "      <th>3</th>\n",
       "      <td>5</td>\n",
       "      <td>CEBADA</td>\n",
       "      <td>1</td>\n",
       "      <td>3</td>\n",
       "    </tr>\n",
       "    <tr>\n",
       "      <th>4</th>\n",
       "      <td>8</td>\n",
       "      <td>OTROS CEREALES</td>\n",
       "      <td>1</td>\n",
       "      <td>4</td>\n",
       "    </tr>\n",
       "    <tr>\n",
       "      <th>5</th>\n",
       "      <td>9</td>\n",
       "      <td>ROQUEDOS</td>\n",
       "      <td>0</td>\n",
       "      <td>5</td>\n",
       "    </tr>\n",
       "    <tr>\n",
       "      <th>6</th>\n",
       "      <td>20</td>\n",
       "      <td>SUELO DESNUDO</td>\n",
       "      <td>1</td>\n",
       "      <td>6</td>\n",
       "    </tr>\n",
       "    <tr>\n",
       "      <th>7</th>\n",
       "      <td>33</td>\n",
       "      <td>GIRASOL</td>\n",
       "      <td>1</td>\n",
       "      <td>7</td>\n",
       "    </tr>\n",
       "    <tr>\n",
       "      <th>8</th>\n",
       "      <td>35</td>\n",
       "      <td>COLZA</td>\n",
       "      <td>1</td>\n",
       "      <td>8</td>\n",
       "    </tr>\n",
       "    <tr>\n",
       "      <th>9</th>\n",
       "      <td>39</td>\n",
       "      <td>OTRAS LEGUMINOSAS GRANO</td>\n",
       "      <td>1</td>\n",
       "      <td>9</td>\n",
       "    </tr>\n",
       "    <tr>\n",
       "      <th>10</th>\n",
       "      <td>40</td>\n",
       "      <td>GUISANTES</td>\n",
       "      <td>1</td>\n",
       "      <td>10</td>\n",
       "    </tr>\n",
       "    <tr>\n",
       "      <th>11</th>\n",
       "      <td>60</td>\n",
       "      <td>ALFALFA</td>\n",
       "      <td>1</td>\n",
       "      <td>11</td>\n",
       "    </tr>\n",
       "    <tr>\n",
       "      <th>12</th>\n",
       "      <td>61</td>\n",
       "      <td>FORRAJERAS</td>\n",
       "      <td>1</td>\n",
       "      <td>12</td>\n",
       "    </tr>\n",
       "    <tr>\n",
       "      <th>13</th>\n",
       "      <td>80</td>\n",
       "      <td>OTROS CULTIVOS INDUSTRIALES</td>\n",
       "      <td>1</td>\n",
       "      <td>13</td>\n",
       "    </tr>\n",
       "    <tr>\n",
       "      <th>14</th>\n",
       "      <td>82</td>\n",
       "      <td>REMOLACHA</td>\n",
       "      <td>1</td>\n",
       "      <td>14</td>\n",
       "    </tr>\n",
       "    <tr>\n",
       "      <th>16</th>\n",
       "      <td>100</td>\n",
       "      <td>VIÑEDO</td>\n",
       "      <td>1</td>\n",
       "      <td>16</td>\n",
       "    </tr>\n",
       "    <tr>\n",
       "      <th>17</th>\n",
       "      <td>101</td>\n",
       "      <td>OLIVAR</td>\n",
       "      <td>1</td>\n",
       "      <td>17</td>\n",
       "    </tr>\n",
       "    <tr>\n",
       "      <th>18</th>\n",
       "      <td>110</td>\n",
       "      <td>HORTICOLA</td>\n",
       "      <td>1</td>\n",
       "      <td>18</td>\n",
       "    </tr>\n",
       "    <tr>\n",
       "      <th>19</th>\n",
       "      <td>177</td>\n",
       "      <td>AROMATICAS</td>\n",
       "      <td>1</td>\n",
       "      <td>19</td>\n",
       "    </tr>\n",
       "    <tr>\n",
       "      <th>20</th>\n",
       "      <td>181</td>\n",
       "      <td>FRUTALES</td>\n",
       "      <td>1</td>\n",
       "      <td>20</td>\n",
       "    </tr>\n",
       "    <tr>\n",
       "      <th>21</th>\n",
       "      <td>183</td>\n",
       "      <td>FRUTALES CASCARA</td>\n",
       "      <td>1</td>\n",
       "      <td>21</td>\n",
       "    </tr>\n",
       "    <tr>\n",
       "      <th>22</th>\n",
       "      <td>200</td>\n",
       "      <td>PASTIZAL</td>\n",
       "      <td>0</td>\n",
       "      <td>22</td>\n",
       "    </tr>\n",
       "    <tr>\n",
       "      <th>23</th>\n",
       "      <td>201</td>\n",
       "      <td>MATORRAL</td>\n",
       "      <td>0</td>\n",
       "      <td>23</td>\n",
       "    </tr>\n",
       "    <tr>\n",
       "      <th>24</th>\n",
       "      <td>202</td>\n",
       "      <td>CONIFERAS</td>\n",
       "      <td>0</td>\n",
       "      <td>24</td>\n",
       "    </tr>\n",
       "    <tr>\n",
       "      <th>25</th>\n",
       "      <td>203</td>\n",
       "      <td>FRONDOSAS CADUCIFOLIAS</td>\n",
       "      <td>0</td>\n",
       "      <td>25</td>\n",
       "    </tr>\n",
       "    <tr>\n",
       "      <th>26</th>\n",
       "      <td>204</td>\n",
       "      <td>FRONDOSAS SIEMPRE VERDES</td>\n",
       "      <td>0</td>\n",
       "      <td>26</td>\n",
       "    </tr>\n",
       "    <tr>\n",
       "      <th>27</th>\n",
       "      <td>255</td>\n",
       "      <td>LAMINA AGUA</td>\n",
       "      <td>0</td>\n",
       "      <td>27</td>\n",
       "    </tr>\n",
       "  </tbody>\n",
       "</table>\n",
       "</div>"
      ],
      "text/plain": [
       "    code                  description  is_crop  idx\n",
       "0      1                        TRIGO        1    0\n",
       "1      3                URBANO-VIALES        0    1\n",
       "2      4                         MAIZ        1    2\n",
       "3      5                       CEBADA        1    3\n",
       "4      8               OTROS CEREALES        1    4\n",
       "5      9                     ROQUEDOS        0    5\n",
       "6     20                SUELO DESNUDO        1    6\n",
       "7     33                      GIRASOL        1    7\n",
       "8     35                        COLZA        1    8\n",
       "9     39      OTRAS LEGUMINOSAS GRANO        1    9\n",
       "10    40                    GUISANTES        1   10\n",
       "11    60                      ALFALFA        1   11\n",
       "12    61                   FORRAJERAS        1   12\n",
       "13    80  OTROS CULTIVOS INDUSTRIALES        1   13\n",
       "14    82                    REMOLACHA        1   14\n",
       "16   100                       VIÑEDO        1   16\n",
       "17   101                       OLIVAR        1   17\n",
       "18   110                    HORTICOLA        1   18\n",
       "19   177                   AROMATICAS        1   19\n",
       "20   181                     FRUTALES        1   20\n",
       "21   183             FRUTALES CASCARA        1   21\n",
       "22   200                     PASTIZAL        0   22\n",
       "23   201                     MATORRAL        0   23\n",
       "24   202                    CONIFERAS        0   24\n",
       "25   203       FRONDOSAS CADUCIFOLIAS        0   25\n",
       "26   204     FRONDOSAS SIEMPRE VERDES        0   26\n",
       "27   255                  LAMINA AGUA        0   27"
      ]
     },
     "execution_count": 4,
     "metadata": {},
     "output_type": "execute_result"
    }
   ],
   "source": [
    "\n",
    "df_crops, vocab = read_crop_list()\n",
    "sample = load_structured_sample()\n",
    "\n",
    "print(\"Sample size: {}\".format(sample.shape))\n",
    "\n",
    "df_crops, vocab = read_crop_list()\n",
    "df_crops"
   ]
  },
  {
   "cell_type": "code",
   "execution_count": null,
   "metadata": {},
   "outputs": [],
   "source": []
  },
  {
   "cell_type": "code",
   "execution_count": 5,
   "metadata": {},
   "outputs": [
    {
     "name": "stdout",
     "output_type": "stream",
     "text": [
      "\n"
     ]
    }
   ],
   "source": [
    "\n",
    "print()\n"
   ]
  },
  {
   "cell_type": "code",
   "execution_count": 6,
   "metadata": {},
   "outputs": [
    {
     "name": "stdout",
     "output_type": "stream",
     "text": [
      "Crop codes and frequencies\n",
      "1       6330\n",
      "5      10717\n",
      "20     13461\n",
      "200    15856\n",
      "203    17460\n",
      "33     18997\n",
      "8      20272\n",
      "4      21384\n",
      "201    22470\n",
      "3      23466\n",
      "60     24455\n",
      "100    25427\n",
      "204    26395\n",
      "101    27354\n",
      "183    28129\n",
      "202    28898\n",
      "181    29496\n",
      "61     29876\n",
      "110    30199\n",
      "40     30380\n",
      "9      30555\n",
      "39     30715\n",
      "82     30845\n",
      "35     30934\n",
      "80     30944\n",
      "dtype: int64\n",
      "\n",
      "shapes: (30944,) == (30944,)\n"
     ]
    }
   ],
   "source": [
    "y = sample[:, 11]\n",
    "X = sample[:, 3:11]\n",
    "last_year = X[:,-1] # last year usage\n",
    "y_pred = np.zeros(shape = y.shape)\n",
    "\n",
    "\n",
    "# create a CDF a cummulative function of the crop frequences\n",
    "cumulative_sum = pd.value_counts(last_year).cumsum()\n",
    "# maps each crop code to its frequence\n",
    "freq_map =cumulative_sum.to_dict()\n",
    "print(\"Crop codes and frequencies\")\n",
    "print(pd.Series(freq_map))\n",
    "\n",
    "# lest get the cummulative distrubition of data, so we randomly choose the crop code based on its frequence.\n",
    "max_value = pd.value_counts(last_year).sum()\n",
    "def get_random_crop(t=None):\n",
    "    \"\"\"\n",
    "    This function returns a random crop code using the crop distribution of the last year.\n",
    "    \"\"\"\n",
    "    value = randrange(max_value)\n",
    "    for k, crop_value in freq_map.items():\n",
    "        if value < crop_value:\n",
    "            return k\n",
    "    return k\n",
    "\n",
    "# Apply the function for all non static codes\n",
    "y_pred = np.array(list(map(get_random_crop, y_pred)))\n",
    "print(\"\\nshapes: {} == {}\".format(y.shape, y_pred.shape))"
   ]
  },
  {
   "cell_type": "code",
   "execution_count": 7,
   "metadata": {},
   "outputs": [
    {
     "name": "stdout",
     "output_type": "stream",
     "text": [
      "Percentage of crops that vary from one year to the next: 64.53 %\n",
      "F1-score if we just take the last year crop: 0.3505081951564627\n",
      "F1-score if we use static and prob codes: 0.1950476095455231\n",
      "F1-score if we use the main category for non static crops : 0.2336911295967801\n"
     ]
    }
   ],
   "source": [
    "# For static crop or usages, use the value from the last year\n",
    "static_crop_codes = [204,203,202,183,181,101,100,9,3]\n",
    "\n",
    "static_mask = np.isin(y, static_crop_codes)\n",
    "# same as last year\n",
    "y_pred[static_mask] = last_year[static_mask]\n",
    "\n",
    "from sklearn.metrics import f1_score\n",
    "f1_score(y, y_pred, average=\"macro\")\n",
    "# lest evaluate how good is this predictor using f1 socre\n",
    "\n",
    "print(\"Percentage of crops that vary from one year to the next: {} %\".format(round(100*np.count_nonzero(last_year-y)/np.count_nonzero(y),2)))\n",
    "print(\"F1-score if we just take the last year crop: {}\".format(f1_score(y, last_year, average=\"macro\")))\n",
    "print(\"F1-score if we use static and prob codes: {}\".format(f1_score(y, y_pred, average=\"macro\")))\n",
    "most_freq_crop_code = 1\n",
    "y_pred[~static_mask] = most_freq_crop_code\n",
    "print(\"F1-score if we use the main category for non static crops : {}\".format(f1_score(y, y_pred, average=\"macro\")))"
   ]
  },
  {
   "cell_type": "markdown",
   "metadata": {},
   "source": [
    "So using the last year crop, we have a **0.35 f1-score**. "
   ]
  },
  {
   "cell_type": "markdown",
   "metadata": {},
   "source": [
    "# Selection of Model Performance Indicator\n",
    "We can make a very basic model just using the population distrubition of our data the prior knowledge that we have about it.\n",
    "1. Some categories have extreamly high frequence, so if we have to guess a category, we can just use the main category as a base prediction.\n",
    "2. Some crops are very static and usually don't change over the years, so we can assume that next year prediction will be the previous year crop code.\n"
   ]
  },
  {
   "cell_type": "markdown",
   "metadata": {},
   "source": [
    "# A stats based model\n",
    "We can make a very basic model just using the population distrubition of our data the prior knowledge that we have about it.\n",
    "1. Some categories have extreamly high frequence, so if we have to guess a category, we can just use the main category as a base prediction.\n",
    "2. Some crops are very static and usually don't change over the years, so we can assume that next year prediction will be the previous year crop code.\n"
   ]
  },
  {
   "cell_type": "markdown",
   "metadata": {},
   "source": [
    "## Using TPOT to create a base model\n",
    "\n",
    "TPOT is a library that automates the phases of searching models and feature extraction, lets see what's the best model we can get using TOP out of the box."
   ]
  },
  {
   "cell_type": "code",
   "execution_count": 8,
   "metadata": {},
   "outputs": [
    {
     "ename": "NameError",
     "evalue": "name 'X_train' is not defined",
     "output_type": "error",
     "traceback": [
      "\u001b[0;31m---------------------------------------------------------------------------\u001b[0m",
      "\u001b[0;31mNameError\u001b[0m                                 Traceback (most recent call last)",
      "\u001b[0;32m<ipython-input-8-ff2eaddebbe7>\u001b[0m in \u001b[0;36m<module>\u001b[0;34m\u001b[0m\n\u001b[1;32m      1\u001b[0m \u001b[0mtpot\u001b[0m \u001b[0;34m=\u001b[0m \u001b[0mTPOTClassifier\u001b[0m\u001b[0;34m(\u001b[0m\u001b[0mgenerations\u001b[0m\u001b[0;34m=\u001b[0m\u001b[0;36m5\u001b[0m\u001b[0;34m,\u001b[0m \u001b[0mpopulation_size\u001b[0m\u001b[0;34m=\u001b[0m\u001b[0;36m50\u001b[0m\u001b[0;34m,\u001b[0m \u001b[0mmax_time_mins\u001b[0m\u001b[0;34m=\u001b[0m\u001b[0;36m30\u001b[0m\u001b[0;34m,\u001b[0m \u001b[0mverbosity\u001b[0m\u001b[0;34m=\u001b[0m\u001b[0;36m2\u001b[0m\u001b[0;34m,\u001b[0m \u001b[0mrandom_state\u001b[0m\u001b[0;34m=\u001b[0m\u001b[0;36m42\u001b[0m\u001b[0;34m,\u001b[0m \u001b[0mscoring\u001b[0m\u001b[0;34m=\u001b[0m\u001b[0;34m\"f1\"\u001b[0m\u001b[0;34m)\u001b[0m\u001b[0;34m\u001b[0m\u001b[0;34m\u001b[0m\u001b[0m\n\u001b[0;32m----> 2\u001b[0;31m \u001b[0mtpot\u001b[0m\u001b[0;34m.\u001b[0m\u001b[0mfit\u001b[0m\u001b[0;34m(\u001b[0m\u001b[0mX_train\u001b[0m\u001b[0;34m,\u001b[0m \u001b[0my_train\u001b[0m\u001b[0;34m)\u001b[0m\u001b[0;34m\u001b[0m\u001b[0;34m\u001b[0m\u001b[0m\n\u001b[0m\u001b[1;32m      3\u001b[0m \u001b[0;34m\u001b[0m\u001b[0m\n\u001b[1;32m      4\u001b[0m \u001b[0mprint\u001b[0m\u001b[0;34m(\u001b[0m\u001b[0;34m\"Final score: {}\"\u001b[0m\u001b[0;34m.\u001b[0m\u001b[0mformat\u001b[0m\u001b[0;34m(\u001b[0m\u001b[0mtpot\u001b[0m\u001b[0;34m.\u001b[0m\u001b[0mscore\u001b[0m\u001b[0;34m(\u001b[0m\u001b[0mX_test\u001b[0m\u001b[0;34m,\u001b[0m \u001b[0my_test\u001b[0m\u001b[0;34m)\u001b[0m\u001b[0;34m)\u001b[0m\u001b[0;34m)\u001b[0m\u001b[0;34m\u001b[0m\u001b[0;34m\u001b[0m\u001b[0m\n",
      "\u001b[0;31mNameError\u001b[0m: name 'X_train' is not defined"
     ]
    }
   ],
   "source": [
    "# tpot = TPOTClassifier(generations=5, population_size=50, max_time_mins=30, verbosity=2, random_state=42, scoring=\"f1\")\n",
    "# tpot.fit(X_train, y_train)\n",
    "\n",
    "# print(\"Final score: {}\".format(tpot.score(X_test, y_test)))\n"
   ]
  },
  {
   "cell_type": "code",
   "execution_count": null,
   "metadata": {},
   "outputs": [],
   "source": [
    "folder = create_training_folder(\"tpot\")\n",
    "eval_model(folder, y_test, y_hat, crop_list, crop_names)\n",
    "# save model\n",
    "# model_folder = '{}/model'.format(folder)\n",
    "# model.save(model_folder)\n",
    "tpot.export('{}/model.py'.format(folder))\n"
   ]
  },
  {
   "cell_type": "code",
   "execution_count": null,
   "metadata": {},
   "outputs": [],
   "source": []
  }
 ],
 "metadata": {
  "kernelspec": {
   "display_name": "Python 3",
   "language": "python",
   "name": "python3"
  },
  "language_info": {
   "codemirror_mode": {
    "name": "ipython",
    "version": 3
   },
   "file_extension": ".py",
   "mimetype": "text/x-python",
   "name": "python",
   "nbconvert_exporter": "python",
   "pygments_lexer": "ipython3",
   "version": "3.6.9"
  },
  "varInspector": {
   "cols": {
    "lenName": 16,
    "lenType": 16,
    "lenVar": 40
   },
   "kernels_config": {
    "python": {
     "delete_cmd_postfix": "",
     "delete_cmd_prefix": "del ",
     "library": "var_list.py",
     "varRefreshCmd": "print(var_dic_list())"
    },
    "r": {
     "delete_cmd_postfix": ") ",
     "delete_cmd_prefix": "rm(",
     "library": "var_list.r",
     "varRefreshCmd": "cat(var_dic_list()) "
    }
   },
   "position": {
    "height": "738.722px",
    "left": "1371.45px",
    "right": "20px",
    "top": "121px",
    "width": "350px"
   },
   "types_to_exclude": [
    "module",
    "function",
    "builtin_function_or_method",
    "instance",
    "_Feature"
   ],
   "window_display": false
  },
  "widgets": {
   "application/vnd.jupyter.widget-state+json": {
    "state": {},
    "version_major": 2,
    "version_minor": 0
   }
  }
 },
 "nbformat": 4,
 "nbformat_minor": 4
}
